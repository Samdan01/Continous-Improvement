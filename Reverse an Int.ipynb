{
 "cells": [
  {
   "cell_type": "code",
   "execution_count": 2,
   "metadata": {},
   "outputs": [
    {
     "name": "stdout",
     "output_type": "stream",
     "text": [
      "12344\n",
      "This is a string -  '12344'\n",
      "This is the reverse of the int - 44321\n"
     ]
    }
   ],
   "source": [
    "number = 12344\n",
    "print(number)\n",
    "string_number = str(number)\n",
    "print('This is a string - '+ \" '\"+string_number + \"'\")\n",
    "reverse_point = string_number[::-1]\n",
    "print('This is the reverse of the int - ' + reverse_point)"
   ]
  },
  {
   "cell_type": "code",
   "execution_count": null,
   "metadata": {},
   "outputs": [],
   "source": []
  }
 ],
 "metadata": {
  "kernelspec": {
   "display_name": "Python 3",
   "language": "python",
   "name": "python3"
  },
  "language_info": {
   "codemirror_mode": {
    "name": "ipython",
    "version": 3
   },
   "file_extension": ".py",
   "mimetype": "text/x-python",
   "name": "python",
   "nbconvert_exporter": "python",
   "pygments_lexer": "ipython3",
   "version": "3.7.6"
  }
 },
 "nbformat": 4,
 "nbformat_minor": 4
}
